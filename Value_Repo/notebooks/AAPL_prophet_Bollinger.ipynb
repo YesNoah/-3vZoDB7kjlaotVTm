{
 "cells": [
  {
   "cell_type": "code",
   "execution_count": 1,
   "id": "aa2d5d85",
   "metadata": {},
   "outputs": [],
   "source": [
    "import pandas_datareader.data as pdr\n",
    "import yfinance as fix\n",
    "fix.pdr_override()"
   ]
  },
  {
   "cell_type": "code",
   "execution_count": 2,
   "id": "579fb0e4",
   "metadata": {},
   "outputs": [],
   "source": [
    "class GetData:\n",
    "    def __init__(self, ticker, start, end):\n",
    "        self.ticker = ticker\n",
    "        self.start = start\n",
    "        self.end = end\n",
    "\n",
    "    # get stock data\n",
    "    def get_stock_data(self):\n",
    "        stock_data = pdr.get_data_yahoo(self.ticker, self.start, self.end)\n",
    "        stock_data.to_csv(\"stock_data.csv\")\n",
    "\n",
    "    # get twitter data\n",
    "    # do your code here!\n",
    "\n",
    "    # get news data\n",
    "    # do your code here!\n"
   ]
  },
  {
   "cell_type": "code",
   "execution_count": 5,
   "id": "d1d96b22",
   "metadata": {},
   "outputs": [
    {
     "name": "stdout",
     "output_type": "stream",
     "text": [
      "[*********************100%***********************]  1 of 1 completed\n"
     ]
    }
   ],
   "source": [
    "data = GetData(\"AAPL\", \"2018-01-01\", \"2021-03-31\")\n",
    "data.get_stock_data()"
   ]
  },
  {
   "cell_type": "code",
   "execution_count": null,
   "id": "15920b85",
   "metadata": {},
   "outputs": [],
   "source": []
  }
 ],
 "metadata": {
  "kernelspec": {
   "display_name": "Python 3 (ipykernel)",
   "language": "python",
   "name": "python3"
  },
  "language_info": {
   "codemirror_mode": {
    "name": "ipython",
    "version": 3
   },
   "file_extension": ".py",
   "mimetype": "text/x-python",
   "name": "python",
   "nbconvert_exporter": "python",
   "pygments_lexer": "ipython3",
   "version": "3.9.16"
  }
 },
 "nbformat": 4,
 "nbformat_minor": 5
}
