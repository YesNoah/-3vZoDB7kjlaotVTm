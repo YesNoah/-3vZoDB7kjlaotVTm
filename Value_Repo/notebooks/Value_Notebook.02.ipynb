{
 "cells": [
  {
   "cell_type": "code",
   "execution_count": 5,
   "id": "cc9b3baf",
   "metadata": {},
   "outputs": [],
   "source": [
    "import numpy as np\n",
    "import pandas as pd\n",
    "import yfinance as yf\n",
    "import pandas_datareader.data as web\n",
    "import pandas_ta as ta\n",
    "import matplotlib.pyplot as plt\n",
    "from datetime import date\n",
    "plt.style.use('fivethirtyeight')\n",
    "yf.pdr_override()"
   ]
  },
  {
   "cell_type": "code",
   "execution_count": 1,
   "id": "c9e9c738",
   "metadata": {},
   "outputs": [],
   "source": [
    "import pywt"
   ]
  },
  {
   "cell_type": "code",
   "execution_count": 3,
   "id": "4853aae6",
   "metadata": {},
   "outputs": [],
   "source": [
    "import pandas_datareader as pdr"
   ]
  },
  {
   "cell_type": "code",
   "execution_count": null,
   "id": "f41d927d",
   "metadata": {},
   "outputs": [],
   "source": []
  },
  {
   "cell_type": "code",
   "execution_count": 4,
   "id": "fc8b72d5",
   "metadata": {},
   "outputs": [
    {
     "ename": "NameError",
     "evalue": "name 'self' is not defined",
     "output_type": "error",
     "traceback": [
      "\u001b[1;31m---------------------------------------------------------------------------\u001b[0m",
      "\u001b[1;31mNameError\u001b[0m                                 Traceback (most recent call last)",
      "Cell \u001b[1;32mIn[4], line 1\u001b[0m\n\u001b[1;32m----> 1\u001b[0m stock_data \u001b[38;5;241m=\u001b[39m pdr\u001b[38;5;241m.\u001b[39mget_data_yahoo(\u001b[38;5;28;43mself\u001b[39;49m\u001b[38;5;241m.\u001b[39mticker, \u001b[38;5;28mself\u001b[39m\u001b[38;5;241m.\u001b[39mstart, \u001b[38;5;28mself\u001b[39m\u001b[38;5;241m.\u001b[39mend)\n",
      "\u001b[1;31mNameError\u001b[0m: name 'self' is not defined"
     ]
    }
   ],
   "source": [
    "stock_data = pdr.get_data_yahoo(self.ticker, self.start, self.end)"
   ]
  },
  {
   "cell_type": "code",
   "execution_count": null,
   "id": "ac27e2db",
   "metadata": {},
   "outputs": [],
   "source": [
    "x = np.array(self.stock_data.iloc[i: i + 11, j])                \n",
    "(ca, cd) = pywt.dwt(x, \"haar\")                \n",
    "cat = pywt.threshold(ca, np.std(ca), mode=\"soft\")                \n",
    "cdt = pywt.threshold(cd, np.std(cd), mode=\"soft\")                \n",
    "tx = pywt.idwt(cat, cdt, \"haar\")"
   ]
  }
 ],
 "metadata": {
  "kernelspec": {
   "display_name": "Python 3 (ipykernel)",
   "language": "python",
   "name": "python3"
  },
  "language_info": {
   "codemirror_mode": {
    "name": "ipython",
    "version": 3
   },
   "file_extension": ".py",
   "mimetype": "text/x-python",
   "name": "python",
   "nbconvert_exporter": "python",
   "pygments_lexer": "ipython3",
   "version": "3.9.16"
  }
 },
 "nbformat": 4,
 "nbformat_minor": 5
}
