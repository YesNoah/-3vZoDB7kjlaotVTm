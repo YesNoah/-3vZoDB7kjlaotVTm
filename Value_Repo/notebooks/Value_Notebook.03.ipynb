{
 "cells": [
  {
   "cell_type": "code",
   "execution_count": 1,
   "id": "cf7e3ac8",
   "metadata": {},
   "outputs": [],
   "source": [
    "import pandas as pd\n",
    "import numpy as np\n",
    "import matplotlib.pyplot as plt\n",
    "from sklearn.preprocessing import MinMaxScaler\n",
    "from keras.models import Sequential\n",
    "from keras.layers import Dense, LSTM"
   ]
  },
  {
   "cell_type": "code",
   "execution_count": 2,
   "id": "026419f1",
   "metadata": {},
   "outputs": [
    {
     "name": "stdout",
     "output_type": "stream",
     "text": [
      "C:\\Users\\noahc\\Value_Repo\n"
     ]
    }
   ],
   "source": [
    "cd .."
   ]
  },
  {
   "cell_type": "code",
   "execution_count": 3,
   "id": "4bb13b84",
   "metadata": {},
   "outputs": [],
   "source": [
    "df_dict= pd.read_excel(\"data//raw//stock_dataXL.xlsx\",sheet_name= None)"
   ]
  },
  {
   "cell_type": "code",
   "execution_count": 4,
   "id": "2053997e",
   "metadata": {},
   "outputs": [],
   "source": [
    "df_dict_price = df_dict.copy()"
   ]
  },
  {
   "cell_type": "code",
   "execution_count": 5,
   "id": "8933eccf",
   "metadata": {},
   "outputs": [
    {
     "name": "stdout",
     "output_type": "stream",
     "text": [
      "                  Date   Price\n",
      "0  2021-03-31 00:00:00  291.02\n",
      "1  2021-03-30 00:00:00  293.25\n",
      "2  2021-03-29 00:00:00   293.3\n",
      "3  2021-03-26 00:00:00  291.22\n",
      "4  2021-03-25 00:00:00  286.66\n",
      "                  Date  Price\n",
      "0  2021-03-31 00:00:00  19.41\n",
      "1  2021-03-30 00:00:00   19.5\n",
      "2  2021-03-29 00:00:00   19.1\n",
      "3  2021-03-26 00:00:00  19.25\n",
      "4  2021-03-25 00:00:00  20.02\n",
      "                  Date Price\n",
      "0  2021-03-31 00:00:00  3.75\n",
      "1  2021-03-30 00:00:00  3.73\n",
      "2  2021-03-29 00:00:00   3.7\n",
      "3  2021-03-28 00:00:00  3.71\n",
      "4  2021-03-25 00:00:00  3.71\n",
      "                  Date  Price\n",
      "0  2021-03-31 00:00:00   10.2\n",
      "1  2021-03-30 00:00:00  10.36\n",
      "2  2021-03-29 00:00:00  10.47\n",
      "3  2021-03-26 00:00:00   9.83\n",
      "4  2021-03-25 00:00:00    9.8\n",
      "                  Date  Price\n",
      "0  2021-03-31 00:00:00  85.15\n",
      "1  2021-03-30 00:00:00   86.1\n",
      "2  2021-03-29 00:00:00     85\n",
      "3  2021-03-26 00:00:00  81.85\n",
      "4  2021-03-25 00:00:00   83.6\n",
      "                  Date Price\n",
      "0  2021-03-31 00:00:00  5150\n",
      "1  2021-03-30 00:00:00  5100\n",
      "2  2021-03-29 00:00:00  5045\n",
      "3  2021-03-26 00:00:00  5020\n",
      "4  2021-03-25 00:00:00  5030\n",
      "                  Date  Price\n",
      "0  2021-03-31 00:00:00  27373\n",
      "1  2021-03-30 00:00:00  26898\n",
      "2  2021-03-29 00:00:00  26980\n",
      "3  2021-03-26 00:00:00  27533\n",
      "4  2021-03-25 00:00:00  26564\n",
      "                  Date  Price\n",
      "0  2021-03-31 00:00:00  13650\n",
      "1  2021-03-30 00:00:00  13650\n",
      "2  2021-03-29 00:00:00  13550\n",
      "3  2021-03-28 00:00:00  12200\n",
      "4  2021-03-26 00:00:00  12200\n"
     ]
    }
   ],
   "source": [
    "for key in df_dict_price:\n",
    "    df_dict_price[key] = df_dict_price[key][['Date','Price']]\n",
    "for key in df_dict_price:\n",
    "    print(df_dict_price[key].head())"
   ]
  },
  {
   "cell_type": "code",
   "execution_count": 6,
   "id": "e429402a",
   "metadata": {},
   "outputs": [],
   "source": [
    "df = df_dict_price['Russia - Sberbank Rossii PAO (S']"
   ]
  },
  {
   "cell_type": "code",
   "execution_count": 7,
   "id": "c591954d",
   "metadata": {},
   "outputs": [],
   "source": [
    "df = df[:-1]"
   ]
  },
  {
   "cell_type": "code",
   "execution_count": 8,
   "id": "3ef1cb85",
   "metadata": {
    "scrolled": true
   },
   "outputs": [
    {
     "name": "stderr",
     "output_type": "stream",
     "text": [
      "C:\\Users\\noahc\\AppData\\Local\\Temp\\ipykernel_13972\\4011687541.py:2: SettingWithCopyWarning: \n",
      "A value is trying to be set on a copy of a slice from a DataFrame.\n",
      "Try using .loc[row_indexer,col_indexer] = value instead\n",
      "\n",
      "See the caveats in the documentation: https://pandas.pydata.org/pandas-docs/stable/user_guide/indexing.html#returning-a-view-versus-a-copy\n",
      "  df.loc[:, 'Date'] = pd.to_datetime(df['Date'])\n",
      "C:\\Users\\noahc\\AppData\\Local\\Temp\\ipykernel_13972\\4011687541.py:2: FutureWarning: In a future version, `df.iloc[:, i] = newvals` will attempt to set the values inplace instead of always setting a new array. To retain the old behavior, use either `df[df.columns[i]] = newvals` or, if columns are non-unique, `df.isetitem(i, newvals)`\n",
      "  df.loc[:, 'Date'] = pd.to_datetime(df['Date'])\n"
     ]
    }
   ],
   "source": [
    "# Extract the 'Date' column and use it as the index\n",
    "df.loc[:, 'Date'] = pd.to_datetime(df['Date'])\n",
    "df.set_index('Date', inplace=True)"
   ]
  },
  {
   "cell_type": "code",
   "execution_count": 9,
   "id": "9a6d91bd",
   "metadata": {},
   "outputs": [
    {
     "data": {
      "text/html": [
       "<div>\n",
       "<style scoped>\n",
       "    .dataframe tbody tr th:only-of-type {\n",
       "        vertical-align: middle;\n",
       "    }\n",
       "\n",
       "    .dataframe tbody tr th {\n",
       "        vertical-align: top;\n",
       "    }\n",
       "\n",
       "    .dataframe thead th {\n",
       "        text-align: right;\n",
       "    }\n",
       "</style>\n",
       "<table border=\"1\" class=\"dataframe\">\n",
       "  <thead>\n",
       "    <tr style=\"text-align: right;\">\n",
       "      <th></th>\n",
       "      <th>Price</th>\n",
       "    </tr>\n",
       "    <tr>\n",
       "      <th>Date</th>\n",
       "      <th></th>\n",
       "    </tr>\n",
       "  </thead>\n",
       "  <tbody>\n",
       "    <tr>\n",
       "      <th>2021-03-31</th>\n",
       "      <td>291.02</td>\n",
       "    </tr>\n",
       "    <tr>\n",
       "      <th>2021-03-30</th>\n",
       "      <td>293.25</td>\n",
       "    </tr>\n",
       "    <tr>\n",
       "      <th>2021-03-29</th>\n",
       "      <td>293.3</td>\n",
       "    </tr>\n",
       "    <tr>\n",
       "      <th>2021-03-26</th>\n",
       "      <td>291.22</td>\n",
       "    </tr>\n",
       "    <tr>\n",
       "      <th>2021-03-25</th>\n",
       "      <td>286.66</td>\n",
       "    </tr>\n",
       "  </tbody>\n",
       "</table>\n",
       "</div>"
      ],
      "text/plain": [
       "             Price\n",
       "Date              \n",
       "2021-03-31  291.02\n",
       "2021-03-30  293.25\n",
       "2021-03-29   293.3\n",
       "2021-03-26  291.22\n",
       "2021-03-25  286.66"
      ]
     },
     "execution_count": 9,
     "metadata": {},
     "output_type": "execute_result"
    }
   ],
   "source": [
    "df.head()"
   ]
  },
  {
   "cell_type": "code",
   "execution_count": 10,
   "id": "3d6636e7",
   "metadata": {
    "scrolled": true
   },
   "outputs": [],
   "source": [
    "#df['Vol.'] = df['Vol.'].str.replace('M', '').astype(float)"
   ]
  },
  {
   "cell_type": "code",
   "execution_count": 11,
   "id": "027a057b",
   "metadata": {},
   "outputs": [],
   "source": [
    "# Split the data into training and test sets\n",
    "train_data = df[df.index.year != 2021]\n",
    "test_data = df[df.index.year == 2021]"
   ]
  },
  {
   "cell_type": "code",
   "execution_count": 12,
   "id": "08c4b488",
   "metadata": {},
   "outputs": [],
   "source": [
    "# Normalize the data using MinMaxScaler\n",
    "scaler = MinMaxScaler()\n",
    "train_data = scaler.fit_transform(train_data)\n",
    "test_data = scaler.transform(test_data)"
   ]
  },
  {
   "cell_type": "code",
   "execution_count": 13,
   "id": "85727717",
   "metadata": {},
   "outputs": [],
   "source": [
    "# Convert the normalized training data into a 3D array\n",
    "X_train = []\n",
    "y_train = []\n",
    "for i in range(60, train_data.shape[0]):\n",
    "    X_train.append(train_data[i-60:i, 0])\n",
    "    y_train.append(train_data[i, 0])\n",
    "X_train, y_train = np.array(X_train), np.array(y_train)\n",
    "X_train = np.reshape(X_train, (X_train.shape[0], X_train.shape[1], 1))"
   ]
  },
  {
   "cell_type": "code",
   "execution_count": null,
   "id": "2fd5cd9c",
   "metadata": {},
   "outputs": [],
   "source": []
  },
  {
   "cell_type": "code",
   "execution_count": 14,
   "id": "e0257e02",
   "metadata": {},
   "outputs": [],
   "source": [
    "# Build the LSTM model\n",
    "model = Sequential()\n",
    "model.add(LSTM(units=50, return_sequences=True, input_shape=(X_train.shape[1], 1)))\n",
    "model.add(LSTM(units=50))\n",
    "model.add(Dense(1))\n",
    "model.compile(loss='mean_squared_error', optimizer='adam')"
   ]
  },
  {
   "cell_type": "code",
   "execution_count": 15,
   "id": "df5e8503",
   "metadata": {},
   "outputs": [
    {
     "name": "stdout",
     "output_type": "stream",
     "text": [
      "Epoch 1/100\n",
      "6/6 [==============================] - 4s 11ms/step - loss: 0.0851\n",
      "Epoch 2/100\n",
      "6/6 [==============================] - 0s 11ms/step - loss: 0.0289\n",
      "Epoch 3/100\n",
      "6/6 [==============================] - 0s 11ms/step - loss: 0.0156\n",
      "Epoch 4/100\n",
      "6/6 [==============================] - 0s 11ms/step - loss: 0.0169\n",
      "Epoch 5/100\n",
      "6/6 [==============================] - 0s 10ms/step - loss: 0.0129\n",
      "Epoch 6/100\n",
      "6/6 [==============================] - 0s 11ms/step - loss: 0.0118\n",
      "Epoch 7/100\n",
      "6/6 [==============================] - 0s 11ms/step - loss: 0.0113\n",
      "Epoch 8/100\n",
      "6/6 [==============================] - 0s 10ms/step - loss: 0.0102\n",
      "Epoch 9/100\n",
      "6/6 [==============================] - 0s 10ms/step - loss: 0.0096\n",
      "Epoch 10/100\n",
      "6/6 [==============================] - 0s 11ms/step - loss: 0.0092\n",
      "Epoch 11/100\n",
      "6/6 [==============================] - 0s 10ms/step - loss: 0.0085\n",
      "Epoch 12/100\n",
      "6/6 [==============================] - 0s 10ms/step - loss: 0.0081\n",
      "Epoch 13/100\n",
      "6/6 [==============================] - 0s 10ms/step - loss: 0.0078\n",
      "Epoch 14/100\n",
      "6/6 [==============================] - 0s 10ms/step - loss: 0.0074\n",
      "Epoch 15/100\n",
      "6/6 [==============================] - 0s 10ms/step - loss: 0.0073\n",
      "Epoch 16/100\n",
      "6/6 [==============================] - 0s 10ms/step - loss: 0.0070\n",
      "Epoch 17/100\n",
      "6/6 [==============================] - 0s 10ms/step - loss: 0.0068\n",
      "Epoch 18/100\n",
      "6/6 [==============================] - 0s 10ms/step - loss: 0.0067\n",
      "Epoch 19/100\n",
      "6/6 [==============================] - 0s 10ms/step - loss: 0.0066\n",
      "Epoch 20/100\n",
      "6/6 [==============================] - 0s 10ms/step - loss: 0.0070\n",
      "Epoch 21/100\n",
      "6/6 [==============================] - 0s 10ms/step - loss: 0.0065\n",
      "Epoch 22/100\n",
      "6/6 [==============================] - 0s 10ms/step - loss: 0.0063\n",
      "Epoch 23/100\n",
      "6/6 [==============================] - 0s 10ms/step - loss: 0.0061\n",
      "Epoch 24/100\n",
      "6/6 [==============================] - 0s 10ms/step - loss: 0.0062\n",
      "Epoch 25/100\n",
      "6/6 [==============================] - 0s 10ms/step - loss: 0.0057\n",
      "Epoch 26/100\n",
      "6/6 [==============================] - 0s 9ms/step - loss: 0.0055\n",
      "Epoch 27/100\n",
      "6/6 [==============================] - 0s 10ms/step - loss: 0.0055\n",
      "Epoch 28/100\n",
      "6/6 [==============================] - 0s 10ms/step - loss: 0.0055\n",
      "Epoch 29/100\n",
      "6/6 [==============================] - 0s 10ms/step - loss: 0.0051\n",
      "Epoch 30/100\n",
      "6/6 [==============================] - 0s 9ms/step - loss: 0.0052\n",
      "Epoch 31/100\n",
      "6/6 [==============================] - 0s 10ms/step - loss: 0.0051\n",
      "Epoch 32/100\n",
      "6/6 [==============================] - 0s 10ms/step - loss: 0.0050\n",
      "Epoch 33/100\n",
      "6/6 [==============================] - 0s 9ms/step - loss: 0.0049\n",
      "Epoch 34/100\n",
      "6/6 [==============================] - 0s 9ms/step - loss: 0.0047\n",
      "Epoch 35/100\n",
      "6/6 [==============================] - 0s 10ms/step - loss: 0.0047\n",
      "Epoch 36/100\n",
      "6/6 [==============================] - 0s 10ms/step - loss: 0.0047\n",
      "Epoch 37/100\n",
      "6/6 [==============================] - 0s 9ms/step - loss: 0.0046\n",
      "Epoch 38/100\n",
      "6/6 [==============================] - 0s 9ms/step - loss: 0.0045\n",
      "Epoch 39/100\n",
      "6/6 [==============================] - 0s 9ms/step - loss: 0.0044\n",
      "Epoch 40/100\n",
      "6/6 [==============================] - 0s 10ms/step - loss: 0.0044\n",
      "Epoch 41/100\n",
      "6/6 [==============================] - 0s 9ms/step - loss: 0.0043\n",
      "Epoch 42/100\n",
      "6/6 [==============================] - 0s 9ms/step - loss: 0.0042\n",
      "Epoch 43/100\n",
      "6/6 [==============================] - 0s 9ms/step - loss: 0.0042\n",
      "Epoch 44/100\n",
      "6/6 [==============================] - 0s 9ms/step - loss: 0.0041\n",
      "Epoch 45/100\n",
      "6/6 [==============================] - 0s 10ms/step - loss: 0.0042\n",
      "Epoch 46/100\n",
      "6/6 [==============================] - 0s 9ms/step - loss: 0.0042\n",
      "Epoch 47/100\n",
      "6/6 [==============================] - 0s 9ms/step - loss: 0.0040\n",
      "Epoch 48/100\n",
      "6/6 [==============================] - 0s 9ms/step - loss: 0.0040\n",
      "Epoch 49/100\n",
      "6/6 [==============================] - 0s 9ms/step - loss: 0.0041\n",
      "Epoch 50/100\n",
      "6/6 [==============================] - 0s 9ms/step - loss: 0.0040\n",
      "Epoch 51/100\n",
      "6/6 [==============================] - 0s 9ms/step - loss: 0.0039\n",
      "Epoch 52/100\n",
      "6/6 [==============================] - 0s 9ms/step - loss: 0.0040\n",
      "Epoch 53/100\n",
      "6/6 [==============================] - 0s 9ms/step - loss: 0.0042\n",
      "Epoch 54/100\n",
      "6/6 [==============================] - 0s 9ms/step - loss: 0.0041\n",
      "Epoch 55/100\n",
      "6/6 [==============================] - 0s 9ms/step - loss: 0.0041\n",
      "Epoch 56/100\n",
      "6/6 [==============================] - 0s 9ms/step - loss: 0.0041\n",
      "Epoch 57/100\n",
      "6/6 [==============================] - 0s 9ms/step - loss: 0.0040\n",
      "Epoch 58/100\n",
      "6/6 [==============================] - 0s 9ms/step - loss: 0.0039\n",
      "Epoch 59/100\n",
      "6/6 [==============================] - 0s 9ms/step - loss: 0.0040\n",
      "Epoch 60/100\n",
      "6/6 [==============================] - 0s 9ms/step - loss: 0.0038\n",
      "Epoch 61/100\n",
      "6/6 [==============================] - 0s 9ms/step - loss: 0.0037\n",
      "Epoch 62/100\n",
      "6/6 [==============================] - 0s 9ms/step - loss: 0.0037\n",
      "Epoch 63/100\n",
      "6/6 [==============================] - 0s 9ms/step - loss: 0.0039\n",
      "Epoch 64/100\n",
      "6/6 [==============================] - 0s 9ms/step - loss: 0.0038\n",
      "Epoch 65/100\n",
      "6/6 [==============================] - 0s 9ms/step - loss: 0.0039\n",
      "Epoch 66/100\n",
      "6/6 [==============================] - 0s 9ms/step - loss: 0.0036\n",
      "Epoch 67/100\n",
      "6/6 [==============================] - 0s 9ms/step - loss: 0.0039\n",
      "Epoch 68/100\n",
      "6/6 [==============================] - 0s 9ms/step - loss: 0.0037\n",
      "Epoch 69/100\n",
      "6/6 [==============================] - 0s 9ms/step - loss: 0.0037\n",
      "Epoch 70/100\n",
      "6/6 [==============================] - 0s 9ms/step - loss: 0.0037\n",
      "Epoch 71/100\n",
      "6/6 [==============================] - 0s 9ms/step - loss: 0.0036\n",
      "Epoch 72/100\n",
      "6/6 [==============================] - 0s 8ms/step - loss: 0.0035\n",
      "Epoch 73/100\n",
      "6/6 [==============================] - 0s 9ms/step - loss: 0.0035\n",
      "Epoch 74/100\n",
      "6/6 [==============================] - 0s 9ms/step - loss: 0.0035\n",
      "Epoch 75/100\n",
      "6/6 [==============================] - 0s 9ms/step - loss: 0.0035\n",
      "Epoch 76/100\n",
      "6/6 [==============================] - 0s 9ms/step - loss: 0.0036\n",
      "Epoch 77/100\n",
      "6/6 [==============================] - 0s 9ms/step - loss: 0.0034\n",
      "Epoch 78/100\n",
      "6/6 [==============================] - 0s 9ms/step - loss: 0.0034\n",
      "Epoch 79/100\n",
      "6/6 [==============================] - 0s 9ms/step - loss: 0.0035\n",
      "Epoch 80/100\n",
      "6/6 [==============================] - 0s 9ms/step - loss: 0.0035\n",
      "Epoch 81/100\n",
      "6/6 [==============================] - 0s 9ms/step - loss: 0.0034\n",
      "Epoch 82/100\n",
      "6/6 [==============================] - 0s 8ms/step - loss: 0.0034\n",
      "Epoch 83/100\n",
      "6/6 [==============================] - 0s 9ms/step - loss: 0.0033\n",
      "Epoch 84/100\n",
      "6/6 [==============================] - 0s 9ms/step - loss: 0.0034\n",
      "Epoch 85/100\n",
      "6/6 [==============================] - 0s 9ms/step - loss: 0.0035\n",
      "Epoch 86/100\n",
      "6/6 [==============================] - 0s 9ms/step - loss: 0.0033\n",
      "Epoch 87/100\n",
      "6/6 [==============================] - 0s 9ms/step - loss: 0.0033\n",
      "Epoch 88/100\n",
      "6/6 [==============================] - 0s 9ms/step - loss: 0.0032\n",
      "Epoch 89/100\n",
      "6/6 [==============================] - 0s 9ms/step - loss: 0.0032\n",
      "Epoch 90/100\n",
      "6/6 [==============================] - 0s 9ms/step - loss: 0.0034\n",
      "Epoch 91/100\n",
      "6/6 [==============================] - 0s 9ms/step - loss: 0.0033\n",
      "Epoch 92/100\n",
      "6/6 [==============================] - 0s 8ms/step - loss: 0.0033\n",
      "Epoch 93/100\n",
      "6/6 [==============================] - 0s 8ms/step - loss: 0.0033\n",
      "Epoch 94/100\n",
      "6/6 [==============================] - 0s 9ms/step - loss: 0.0032\n",
      "Epoch 95/100\n",
      "6/6 [==============================] - 0s 9ms/step - loss: 0.0032\n",
      "Epoch 96/100\n",
      "6/6 [==============================] - 0s 9ms/step - loss: 0.0033\n",
      "Epoch 97/100\n",
      "6/6 [==============================] - 0s 9ms/step - loss: 0.0035\n",
      "Epoch 98/100\n",
      "6/6 [==============================] - 0s 9ms/step - loss: 0.0031\n",
      "Epoch 99/100\n",
      "6/6 [==============================] - 0s 8ms/step - loss: 0.0031\n",
      "Epoch 100/100\n",
      "6/6 [==============================] - 0s 9ms/step - loss: 0.0032\n"
     ]
    },
    {
     "data": {
      "text/plain": [
       "<keras.callbacks.History at 0x1fbb738d310>"
      ]
     },
     "execution_count": 15,
     "metadata": {},
     "output_type": "execute_result"
    }
   ],
   "source": [
    "# Train the LSTM model on the training data\n",
    "model.fit(X_train, y_train, epochs=100, batch_size=32)"
   ]
  },
  {
   "cell_type": "code",
   "execution_count": 16,
   "id": "95be5b8a",
   "metadata": {},
   "outputs": [
    {
     "name": "stderr",
     "output_type": "stream",
     "text": [
      "C:\\Users\\noahc\\anaconda3\\envs\\tf\\lib\\site-packages\\sklearn\\base.py:409: UserWarning: X does not have valid feature names, but MinMaxScaler was fitted with feature names\n",
      "  warnings.warn(\n"
     ]
    }
   ],
   "source": [
    "# Use the trained model to make predictions on the test data\n",
    "test_data = scaler.transform(test_data)\n",
    "X_test = []\n",
    "for i in range(60, test_data.shape[0]):\n",
    "    X_test.append(test_data[i-60:i, 0])\n",
    "X_test = np.array(X_test)\n",
    "X_test = np.reshape(X_test, (X_test.shape[0], X_test.shape[1], 1))\n"
   ]
  },
  {
   "cell_type": "code",
   "execution_count": 18,
   "id": "09da3689",
   "metadata": {},
   "outputs": [
    {
     "ename": "ValueError",
     "evalue": "cannot reshape array of size 59 into shape (1,60,1)",
     "output_type": "error",
     "traceback": [
      "\u001b[1;31m---------------------------------------------------------------------------\u001b[0m",
      "\u001b[1;31mValueError\u001b[0m                                Traceback (most recent call last)",
      "Cell \u001b[1;32mIn[18], line 5\u001b[0m\n\u001b[0;32m      3\u001b[0m \u001b[38;5;28;01mfor\u001b[39;00m i \u001b[38;5;129;01min\u001b[39;00m \u001b[38;5;28mrange\u001b[39m(\u001b[38;5;241m60\u001b[39m, \u001b[38;5;241m121\u001b[39m):\n\u001b[0;32m      4\u001b[0m     x \u001b[38;5;241m=\u001b[39m test_data[i\u001b[38;5;241m-\u001b[39m\u001b[38;5;241m60\u001b[39m:i, :]\n\u001b[1;32m----> 5\u001b[0m     x \u001b[38;5;241m=\u001b[39m \u001b[43mx\u001b[49m\u001b[38;5;241;43m.\u001b[39;49m\u001b[43mreshape\u001b[49m\u001b[43m(\u001b[49m\u001b[38;5;241;43m1\u001b[39;49m\u001b[43m,\u001b[49m\u001b[43m \u001b[49m\u001b[38;5;241;43m60\u001b[39;49m\u001b[43m,\u001b[49m\u001b[43m \u001b[49m\u001b[38;5;241;43m1\u001b[39;49m\u001b[43m)\u001b[49m\n\u001b[0;32m      6\u001b[0m     yhat \u001b[38;5;241m=\u001b[39m model\u001b[38;5;241m.\u001b[39mpredict(x, verbose\u001b[38;5;241m=\u001b[39m\u001b[38;5;241m0\u001b[39m)\n\u001b[0;32m      7\u001b[0m     predictions\u001b[38;5;241m.\u001b[39mappend(yhat[\u001b[38;5;241m0\u001b[39m,\u001b[38;5;241m0\u001b[39m])\n",
      "\u001b[1;31mValueError\u001b[0m: cannot reshape array of size 59 into shape (1,60,1)"
     ]
    }
   ],
   "source": [
    "# Generate predictions for all 61 time steps in the test data\n",
    "predictions = []\n",
    "for i in range(60, 121):\n",
    "    x = test_data[i-60:i, :]\n",
    "    x = x.reshape(1, 60, 1)\n",
    "    yhat = model.predict(x, verbose=0)\n",
    "    predictions.append(yhat[0,0])"
   ]
  },
  {
   "cell_type": "code",
   "execution_count": null,
   "id": "ead49047",
   "metadata": {},
   "outputs": [],
   "source": [
    "# Calculate the BUY, HOLD, and SELL recommendations based on the predictions\n",
    "recommendations = []\n",
    "for i in range(len(predictions)):\n",
    "    if predictions[i] > test_data[60+i, 0]:\n",
    "        recommendations.append('BUY')\n",
    "    elif predictions[i] < test_data[60+i, 0]:\n",
    "        recommendations.append('SELL')\n",
    "    else:\n",
    "        recommendations.append('HOLD')"
   ]
  },
  {
   "cell_type": "code",
   "execution_count": null,
   "id": "e9ba730e",
   "metadata": {},
   "outputs": [],
   "source": [
    "# Calculate the capital gains/losses for each BUY, HOLD, and SELL event\n",
    "gains_losses = []\n",
    "for i in range(len(recommendations)):\n",
    "    if recommendations[i] == 'BUY':\n",
    "        gains_losses.append(test_data[60+i, 0] - test_data[59+i, 0])\n",
    "    elif recommendations[i] == 'SELL':\n",
    "        gains_losses.append(test_data[59+i, 0] - test_data[60+i, 0])\n",
    "    else:\n",
    "        gains_losses.append(0)\n"
   ]
  },
  {
   "cell_type": "code",
   "execution_count": null,
   "id": "19420f5c",
   "metadata": {},
   "outputs": [],
   "source": [
    "# Aggregate the capital gains/losses into a total\n",
    "total = np.sum(gains_losses)\n"
   ]
  },
  {
   "cell_type": "code",
   "execution_count": null,
   "id": "7989647c",
   "metadata": {},
   "outputs": [],
   "source": [
    "# Store the actual prices and the predicted prices in the same DataFrame\n",
    "results = df[df.index >= '2021-01-01']\n",
    "results['Predicted'] = predictions\n",
    "\n",
    "# Plot the actual stock prices and the predictions\n",
    "plt.plot(results['Price'], label='Actual')\n",
    "plt.plot(results['Predicted'], label='Predicted')\n",
    "plt.legend()\n",
    "plt.show()"
   ]
  },
  {
   "cell_type": "code",
   "execution_count": null,
   "id": "648d8cf7",
   "metadata": {},
   "outputs": [],
   "source": [
    "print('Recommendations:', recommendations)\n",
    "print('Capital gains/losses:', gains_losses)\n",
    "print('Total:', total)"
   ]
  },
  {
   "cell_type": "code",
   "execution_count": null,
   "id": "dd98a35c",
   "metadata": {},
   "outputs": [],
   "source": []
  }
 ],
 "metadata": {
  "kernelspec": {
   "display_name": "Python 3 (ipykernel)",
   "language": "python",
   "name": "python3"
  },
  "language_info": {
   "codemirror_mode": {
    "name": "ipython",
    "version": 3
   },
   "file_extension": ".py",
   "mimetype": "text/x-python",
   "name": "python",
   "nbconvert_exporter": "python",
   "pygments_lexer": "ipython3",
   "version": "3.9.16"
  }
 },
 "nbformat": 4,
 "nbformat_minor": 5
}
